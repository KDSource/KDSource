{
 "cells": [
  {
   "cell_type": "markdown",
   "metadata": {},
   "source": [
    "[![Open In Colab](https://colab.research.google.com/assets/colab-badge.svg)](https://colab.research.google.com/github/KDSource/KDSource/blob/master/docs/examples/Verification_tophat.ipynb)"
   ]
  },
  {
   "cell_type": "markdown",
   "metadata": {},
   "source": [
    "# Verification"
   ]
  },
  {
   "cell_type": "markdown",
   "metadata": {
    "id": "qDgK9MZtOSDg"
   },
   "source": [
    "## Install KDSource"
   ]
  },
  {
   "cell_type": "code",
   "execution_count": 1,
   "metadata": {},
   "outputs": [
    {
     "name": "stdout",
     "output_type": "stream",
     "text": [
      "This function installs KDSource in a Google Colaboratory instance.\n",
      "To install locally follow instructions in documentation:\n",
      "link/to/docs?\n",
      "Installed KDSource in 0.00 minutes\n"
     ]
    }
   ],
   "source": [
    "#\n",
    "# Executing this cell you will install KDSource\n",
    "# in this instance of the Google Colaboratory virtual machine.\n",
    "# The process takes about 1 minutes.\n",
    "#\n",
    "\n",
    "def install_kdsource():\n",
    "  #\n",
    "  # Clone source code from Github, make and install\n",
    "  #\n",
    "  \n",
    "  import os\n",
    "  \n",
    "  if not os.path.isdir('/content'):\n",
    "    print(\"This function installs KDSource in a Google Colaboratory instance.\")\n",
    "    print(\"To install locally follow instructions in documentation:\")\n",
    "    print(\"link/to/docs?\")\n",
    "    return\n",
    "  \n",
    "  %cd -q /content\n",
    "  print(\"Obtaining KDSource source code from Github...\")\n",
    "  !git --no-pager clone --recurse-submodules https://github.com/KDSource/KDSource &> /dev/null\n",
    "  %cd -q KDSource\n",
    "  !git --no-pager checkout master &> /dev/null\n",
    "  !mkdir build\n",
    "  %cd -q build\n",
    "  print(\"Running cmake...\")\n",
    "  !cmake .. -DCMAKE_INSTALL_PREFIX=/usr/local/KDSource &> /dev/null\n",
    "  print(\"Running make install...\")\n",
    "  !make install &> /dev/null\n",
    "  print(\"Installing Python API...\")\n",
    "  %cd -q ../python\n",
    "  !pip install . &> /dev/null\n",
    "  \n",
    "  os.environ['PATH'] += \":/usr/local/KDSource/bin\"\n",
    "  \n",
    "  %cd -q /content\n",
    "\n",
    "from time import time\n",
    "t1 = time()\n",
    "install_kdsource()\n",
    "t2 = time()\n",
    "print(\"Installed KDSource in {:.2f} minutes\".format((t2-t1)/60.0))\n"
   ]
  },
  {
   "cell_type": "markdown",
   "metadata": {
    "id": "mTYaKwkahq23"
   },
   "source": [
    "## Generate synthetic data"
   ]
  },
  {
   "cell_type": "markdown",
   "metadata": {
    "id": "Z-ZBeC61ZtWR"
   },
   "source": [
    "A particle list will be generated with the following joint distribution:\n",
    "\n",
    "$$f(u,x,y,z,\\mu,\\phi)=\\left(f_{U,1}(u)f_{X,1}(x)+f_{U,2}(u)f_{X,2}(x)\\right)f_Y(y)\\ f_{\\mu}(\\mu)\\ f_{\\Phi}(\\phi)$$\n",
    "\n",
    "Being $u=log(E_0/E)$ the lethargy, $(x,y)$ the 2D position ($z$ is fixed at 0), and $\\mu=cos(\\theta),\\phi$ the polar coordinates, so that $\\hat{\\Omega}=(d_x,d_y,d_z)=(sin(\\theta)cos(\\phi),sin(\\theta)sin(\\phi),cos(\\theta))$ is the direction unit-vector.\n",
    "\n",
    "This means that there are two \"clusters\" of particles, each one with a characteristic energy and x distribution, implying that this variables are correlated. The other variables have a separated density distribution.\n",
    "\n",
    "The specific distributions for each variable are described as follows: \n",
    "\n",
    "*   Energy: Normal distribution for lethargy, for each cluster:\n",
    "\n",
    "    $$f_{U,i}(u)=\\frac{1}{\\sigma_u\\sqrt{2\\pi}}exp\\left(-\\frac{(u-\\mu_{u,i})^2}{2\\sigma_u^2}\\right),\\ i=1,2$$\n",
    "\n",
    "*   Position: Normal distribution for x, for each cluster. Normal distribution around 0 for y. Fixed z = 0:\n",
    "\n",
    "    $$f_{x,i}(x)=\\frac{1}{\\sigma_x\\sqrt{2\\pi}}exp\\left(-\\frac{(x-\\mu_{x,i})^2}{2\\sigma_x^2}\\right),\\ i=1,2,\\ f_y(y)=\\frac{1}{\\sigma_y\\sqrt{2\\pi}}exp\\left(-\\frac{y^2}{2\\sigma_y^2}\\right)$$\n",
    "\n",
    "* Direction: \"Cosine distribution\", uniform in &phi;:\n",
    "\n",
    "    $$f_{\\mu}(\\mu)=2\\mu,\\ \\mu>0,\\ f_{\\phi}(\\phi)=\\frac{1}{2\\pi}$$\n",
    "\n",
    "* Weight: Normal distribution around 1.\n",
    "\n",
    "    $$f(w)=\\frac{1}{\\sigma_w\\sqrt{2\\pi}}exp\\left(-\\frac{(w-1)^2}{2\\sigma_w^2}\\right)$$\n",
    "\n",
    "    with &sigma;<sub>w</sub> small enough so that w is always greater than 0.\n",
    "\n"
   ]
  },
  {
   "cell_type": "code",
   "execution_count": 2,
   "metadata": {
    "colab": {
     "base_uri": "https://localhost:8080/"
    },
    "executionInfo": {
     "elapsed": 1746,
     "status": "ok",
     "timestamp": 1634594735429,
     "user": {
      "displayName": "Inti Abbate",
      "photoUrl": "https://lh3.googleusercontent.com/a/default-user=s64",
      "userId": "15235311645725350304"
     },
     "user_tz": 180
    },
    "id": "9sOTsUUNhq25",
    "outputId": "03b4ca62-aae5-4bf0-ce53-e380f6096946",
    "scrolled": true
   },
   "outputs": [
    {
     "name": "stdout",
     "output_type": "stream",
     "text": [
      "Writing particles into SSV file...\n",
      "Done. All particles written into samples.ssv\n",
      "ssv_open_file: Opened file \"samples.ssv\":\n",
      "MCPL: Attempting to compress file samples.mcpl with gzip\n",
      "MCPL: Succesfully compressed file into samples.mcpl.gz\n",
      "Created samples.mcpl.gz\n"
     ]
    }
   ],
   "source": [
    "import os\n",
    "import numpy as np\n",
    "import kdsource as kds\n",
    "import mcpl\n",
    "\n",
    "N = int(1E5) # Size of particle list\n",
    "\n",
    "pt = \"n\"     # Particle type: neutron\n",
    "\n",
    "# Energy\n",
    "E0 = 10.0\n",
    "sigma_u = 1\n",
    "mu_u_1 = 5\n",
    "mu_u_2 = 9\n",
    "us_1 = np.random.normal(mu_u_1, sigma_u, (int(N/2),1))\n",
    "us_2 = np.random.normal(mu_u_2, sigma_u, (int(N/2),1))\n",
    "us = np.concatenate((us_1, us_2), axis=0)\n",
    "Es = E0 * np.exp(-us)\n",
    "# Position\n",
    "sigma_x = sigma_y = 10\n",
    "mu_x_1 = sigma_x\n",
    "mu_x_2 = -sigma_x\n",
    "poss_1 = np.random.normal([mu_x_1,0,0], [sigma_x,sigma_y,0], (int(N/2),3))\n",
    "poss_2 = np.random.normal([mu_x_2,0,0], [sigma_x,sigma_y,0], (int(N/2),3))\n",
    "poss = np.concatenate((poss_1, poss_2), axis=0)\n",
    "# Direction\n",
    "mus = np.sqrt(np.random.uniform(0,1,N))\n",
    "phis = np.random.uniform(-np.pi,np.pi,N)\n",
    "dxs = np.sqrt(1-mus**2) * np.cos(phis)\n",
    "dys = np.sqrt(1-mus**2) * np.sin(phis)\n",
    "dzs = mus\n",
    "dirs = np.stack((dxs,dys,dzs), axis=1)\n",
    "# Time\n",
    "ts = np.zeros((N,1))\n",
    "# Stack energies, positions, directions and times\n",
    "parts = np.concatenate((Es,poss,dirs,ts), axis=1)\n",
    "np.random.shuffle(parts)\n",
    "\n",
    "# Weights\n",
    "sigma_w = 0.1\n",
    "ws = np.random.normal(1, sigma_w, N)\n",
    "\n",
    "ssvfile = \"samples.ssv\"\n",
    "kds.savessv(pt, parts, ws, ssvfile)\n",
    "!ssv2mcpl $ssvfile samples\n",
    "samples = \"samples.mcpl.gz\""
   ]
  },
  {
   "cell_type": "markdown",
   "metadata": {
    "id": "3CFnVIxrhq28"
   },
   "source": [
    "## Create and optimize KDSource"
   ]
  },
  {
   "cell_type": "markdown",
   "metadata": {
    "id": "zyRkGpcBn3X6"
   },
   "source": [
    "### Create KDSource"
   ]
  },
  {
   "cell_type": "code",
   "execution_count": 3,
   "metadata": {
    "colab": {
     "base_uri": "https://localhost:8080/"
    },
    "executionInfo": {
     "elapsed": 328,
     "status": "ok",
     "timestamp": 1634594737612,
     "user": {
      "displayName": "Inti Abbate",
      "photoUrl": "https://lh3.googleusercontent.com/a/default-user=s64",
      "userId": "15235311645725350304"
     },
     "user_tz": 180
    },
    "id": "7ZfDOJ37hq29",
    "outputId": "81efd345-2879-46f6-da96-7c631be70288"
   },
   "outputs": [
    {
     "name": "stdout",
     "output_type": "stream",
     "text": [
      "Using existing file samples.mcpl.gz\n",
      "sum_weights = 99995.57168233395\n",
      "p2 = 100994.54712371725\n",
      "N = 100000\n",
      "N_eff = 99006.47748663081\n"
     ]
    }
   ],
   "source": [
    "# PList: wrapper for MCPL file\n",
    "plist = kds.PList(samples)\n",
    "# Geometry: define metrics for variables\n",
    "geom = kds.Geometry([kds.geom.Lethargy(E0),\n",
    "                     kds.geom.SurfXY(),\n",
    "                     kds.geom.Isotrop()])\n",
    "# Create KDSource\n",
    "s = kds.KDSource(plist, geom, kernel='box')"
   ]
  },
  {
   "cell_type": "markdown",
   "metadata": {
    "id": "a-kOozmYoBUs"
   },
   "source": [
    "### Optimize bandwidth"
   ]
  },
  {
   "cell_type": "code",
   "execution_count": 4,
   "metadata": {},
   "outputs": [],
   "source": [
    "# Give a little more importance to energy\n",
    "var_importance = [3,1,1,1,1,1]\n",
    "\n",
    "parts,ws = s.plist.get(N=-1)\n",
    "scaling = s.geom.std(parts=parts)\n",
    "scaling /= var_importance"
   ]
  },
  {
   "cell_type": "code",
   "execution_count": 5,
   "metadata": {
    "executionInfo": {
     "elapsed": 354,
     "status": "ok",
     "timestamp": 1634594740542,
     "user": {
      "displayName": "Inti Abbate",
      "photoUrl": "https://lh3.googleusercontent.com/a/default-user=s64",
      "userId": "15235311645725350304"
     },
     "user_tz": 180
    },
    "id": "GKc55zPoouGB"
   },
   "outputs": [],
   "source": [
    "# Number of particles to use for optimization.\n",
    "# A large number (1E5 or more) gives better bandwidths, but takes longer to\n",
    "# compute.\n",
    "N = 1E5"
   ]
  },
  {
   "cell_type": "markdown",
   "metadata": {
    "id": "m8yv8nu8oLYH"
   },
   "source": [
    "Choose one of the available bandwidth optimization methods. Recommended method is Method 3 (adaptive MLCV)"
   ]
  },
  {
   "cell_type": "code",
   "execution_count": 6,
   "metadata": {
    "colab": {
     "base_uri": "https://localhost:8080/"
    },
    "executionInfo": {
     "elapsed": 523,
     "status": "ok",
     "timestamp": 1634594742089,
     "user": {
      "displayName": "Inti Abbate",
      "photoUrl": "https://lh3.googleusercontent.com/a/default-user=s64",
      "userId": "15235311645725350304"
     },
     "user_tz": 180
    },
    "id": "gFTxFighhq2_",
    "outputId": "afa22c99-0c96-4992-e857-c790d36ca2b5",
    "scrolled": true
   },
   "outputs": [
    {
     "name": "stdout",
     "output_type": "stream",
     "text": [
      "Using 100000 particles for fit.\n",
      "Calculating bw ... \n",
      "Done\n",
      "Optimal bw (silv) = [[0.21971706 4.17650722 2.95547356 0.13937156 0.13937156 0.13937156]]\n"
     ]
    }
   ],
   "source": [
    "# Method 1: Silverman's Rule: Simple and fast method.\n",
    "# BW is chosen based on only on the number of particles, and dimension of\n",
    "# geometry.\n",
    "\n",
    "s.bw_method = \"silv\"\n",
    "s.fit(N, scaling=scaling)"
   ]
  },
  {
   "cell_type": "code",
   "execution_count": 7,
   "metadata": {
    "colab": {
     "base_uri": "https://localhost:8080/",
     "height": 450
    },
    "executionInfo": {
     "elapsed": 48768,
     "status": "ok",
     "timestamp": 1634598202519,
     "user": {
      "displayName": "Inti Abbate",
      "photoUrl": "https://lh3.googleusercontent.com/a/default-user=s64",
      "userId": "15235311645725350304"
     },
     "user_tz": 180
    },
    "id": "Owolp6SzqcHc",
    "outputId": "9d26d939-b4d8-4a45-fb50-b98984530cb9",
    "scrolled": true
   },
   "outputs": [
    {
     "name": "stdout",
     "output_type": "stream",
     "text": [
      "Using 10000 particles for fit.\n",
      "Calculating bw ... \n"
     ]
    },
    {
     "name": "stderr",
     "output_type": "stream",
     "text": [
      "[Parallel(n_jobs=-1)]: Using backend LokyBackend with 8 concurrent workers.\n",
      "[Parallel(n_jobs=-1)]: Done   3 out of  10 | elapsed:   27.8s remaining:  1.1min\n",
      "[Parallel(n_jobs=-1)]: Done   5 out of  10 | elapsed:   30.3s remaining:   30.3s\n",
      "[Parallel(n_jobs=-1)]: Done   7 out of  10 | elapsed:   31.6s remaining:   13.5s\n",
      "[Parallel(n_jobs=-1)]: Done  10 out of  10 | elapsed:   38.4s finished\n"
     ]
    },
    {
     "data": {
      "image/png": "[encoded data removed]",
      "text/plain": [
       "<Figure size 432x288 with 1 Axes>"
      ]
     },
     "metadata": {
      "needs_background": "light"
     },
     "output_type": "display_data"
    },
    {
     "name": "stdout",
     "output_type": "stream",
     "text": [
      "Done\n",
      "Optimal bw (mlcv) = [[0.26962488 5.12518368 3.62679724 0.17102924 0.17102924 0.17102924]]\n",
      "Using 100000 particles for fit.\n"
     ]
    }
   ],
   "source": [
    "# Method 2: Non-adaptive Maximum Likelihood Cross-Validation:\n",
    "# Creates a grid of non-adaptive bandwidths and evaluates the\n",
    "# cross-validation scores on each one, which is an indicator of the\n",
    "# quality of the estimation. Selects the bandwidth that optimizes\n",
    "# CV score.\n",
    "\n",
    "s.bw_method = \"mlcv\"\n",
    "seed = None # Default: Use the Silverman's Rule as seed\n",
    "grid = np.logspace(-0.1,0.1,10)\n",
    "\n",
    "N_cv = int(1E4) # Use a smaller N to reduce computation times\n",
    "s.fit(N_cv, scaling=scaling, seed=seed, grid=grid)\n",
    "\n",
    "bw = s.kde.bw\n",
    "dim = s.geom.dim\n",
    "bw *= kds.kde.bw_silv(dim,N)/kds.kde.bw_silv(dim,N_cv) # Apply Silverman factor\n",
    "s = kds.KDSource(plist, geom, bw=bw,  kernel='box') # Create new KDSource with adapted BW\n",
    "s.fit(N=N, scaling=scaling)\n"
   ]
  },
  {
   "cell_type": "code",
   "execution_count": 8,
   "metadata": {
    "colab": {
     "base_uri": "https://localhost:8080/",
     "height": 943
    },
    "executionInfo": {
     "elapsed": 133707,
     "status": "ok",
     "timestamp": 1634598497325,
     "user": {
      "displayName": "Inti Abbate",
      "photoUrl": "https://lh3.googleusercontent.com/a/default-user=s64",
      "userId": "15235311645725350304"
     },
     "user_tz": 180
    },
    "id": "e_UaDW8Ipdtr",
    "outputId": "dddb7a90-758e-4c10-b990-6bd7abadba5f",
    "scrolled": true
   },
   "outputs": [
    {
     "name": "stdout",
     "output_type": "stream",
     "text": [
      "Using 100000 particles for fit.\n",
      "Calculating bw ... \n",
      "Using k = 10 neighbors per batch (batch_size = 10000)\n",
      "Correction factor: f_k = k_float / k = 1.0\n",
      "Effective total neighbors: K_eff = 100.0\n",
      "batch = 1 / 10\n",
      "batch = 2 / 10\n",
      "batch = 3 / 10\n",
      "batch = 4 / 10\n",
      "batch = 5 / 10\n",
      "batch = 6 / 10\n",
      "batch = 7 / 10\n",
      "batch = 8 / 10\n",
      "batch = 9 / 10\n",
      "batch = 10 / 10\n",
      "Done\n",
      "Optimal bw (knn) = [[ 0.59928585 11.39156742  8.06115602  0.38014074  0.38014074  0.38014074]\n",
      " [ 0.66745095 12.68728861  8.97806326  0.42337943  0.42337943  0.42337943]\n",
      " [ 0.51265769  9.74488998  6.89589726  0.32519052  0.32519052  0.32519052]\n",
      " ...\n",
      " [ 1.25026302 23.76571312 16.81762608  0.79307048  0.79307048  0.79307048]\n",
      " [ 0.51803656  9.84713453  6.96824984  0.32860246  0.32860246  0.32860246]\n",
      " [ 0.79318308 15.07727675 10.66932019  0.5031342   0.5031342   0.5031342 ]]\n",
      "Using 10000 particles for fit.\n",
      "Calculating bw ... \n"
     ]
    },
    {
     "name": "stderr",
     "output_type": "stream",
     "text": [
      "[Parallel(n_jobs=-1)]: Using backend LokyBackend with 8 concurrent workers.\n",
      "[Parallel(n_jobs=-1)]: Done   3 out of  10 | elapsed:  1.1min remaining:  2.5min\n",
      "[Parallel(n_jobs=-1)]: Done   5 out of  10 | elapsed:  1.3min remaining:  1.3min\n",
      "[Parallel(n_jobs=-1)]: Done   7 out of  10 | elapsed:  1.5min remaining:   37.8s\n",
      "[Parallel(n_jobs=-1)]: Done  10 out of  10 | elapsed:  2.1min finished\n"
     ]
    },
    {
     "data": {
      "image/png": "[encoded data removed]",
      "text/plain": [
       "<Figure size 432x288 with 1 Axes>"
      ]
     },
     "metadata": {
      "needs_background": "light"
     },
     "output_type": "display_data"
    },
    {
     "name": "stdout",
     "output_type": "stream",
     "text": [
      "Done\n",
      "Optimal bw (mlcv) = [[0.19442188 3.69568201 2.61522126 0.12332625 0.12332625 0.12332625]\n",
      " [0.21653618 4.11604326 2.9126867  0.13735386 0.13735386 0.13735386]\n",
      " [0.16631774 3.16146262 2.23718497 0.10549916 0.10549916 0.10549916]\n",
      " ...\n",
      " [0.23136284 4.39787695 3.11212417 0.14675875 0.14675875 0.14675875]\n",
      " [0.19413185 3.69016901 2.61132003 0.12314228 0.12314228 0.12314228]\n",
      " [0.2047838  3.89264739 2.75460231 0.12989906 0.12989906 0.12989906]]\n",
      "Using 100000 particles for fit.\n"
     ]
    }
   ],
   "source": [
    "# Method 3: Adaptive Maximum Likelihood Cross-Validation:\n",
    "# Creates a grid of adaptive bandwidths and evaluates the\n",
    "# cross-validation scores on each one, which is an indicator of the\n",
    "# quality of the estimation. Selects the bandwidth that optimizes\n",
    "# CV score.\n",
    "# kNN is used to generate the seed adaptive bandwidth.\n",
    "\n",
    "# kNN bandwidth\n",
    "s.bw_method = \"knn\"\n",
    "batch_size = 10000 # Batch size for KNN search\n",
    "k = 10             # Numer of neighbors per batch\n",
    "s.fit(N, scaling=scaling, batch_size=batch_size, k=k)\n",
    "bw_knn = s.kde.bw\n",
    "\n",
    "# MLCV optimization of previously calculated kNN bandwidth\n",
    "s.bw_method = \"mlcv\"\n",
    "N_cv = int(1E4)   # Use a smaller N to reduce computation times\n",
    "seed = bw_knn[:N_cv] # Use kNN BW as seed (first N elements)\n",
    "grid = np.logspace(-0.6,-0.4,10)\n",
    "s.fit(N_cv, scaling=scaling, seed=seed, grid=grid)\n",
    "bw_cv = s.kde.bw\n",
    "\n",
    "# Extend MLCV optimization to full KNN BW\n",
    "bw_knn_cv = bw_knn * bw_cv[0]/bw_knn[0] # Apply MLCV factor\n",
    "dim = s.geom.dim\n",
    "bw_knn_cv *= kds.kde.bw_silv(dim,len(bw_knn))/kds.kde.bw_silv(dim,len(bw_cv)) # Apply Silverman factor\n",
    "s = kds.KDSource(plist, geom, bw=bw_knn_cv,  kernel='box') # Create new KDSource with full BW\n",
    "s.fit(N=N, scaling=scaling)"
   ]
  },
  {
   "cell_type": "markdown",
   "metadata": {
    "id": "v21kjtYAhq3L"
   },
   "source": [
    "## Resample"
   ]
  },
  {
   "cell_type": "code",
   "execution_count": 9,
   "metadata": {
    "colab": {
     "base_uri": "https://localhost:8080/"
    },
    "executionInfo": {
     "elapsed": 4087,
     "status": "ok",
     "timestamp": 1634598550450,
     "user": {
      "displayName": "Inti Abbate",
      "photoUrl": "https://lh3.googleusercontent.com/a/default-user=s64",
      "userId": "15235311645725350304"
     },
     "user_tz": 180
    },
    "id": "raMdhsCIhq3L",
    "outputId": "23ec7993-0ece-48e1-daf9-9757ff83a5e0"
   },
   "outputs": [
    {
     "name": "stdout",
     "output_type": "stream",
     "text": [
      "Bandwidth file: samples_bws\n",
      "Successfully saved parameters file source.xml\n",
      "Reading xmlfile source.xml...\n",
      "Done.\n",
      "Resampling...\n",
      "MCPL: Attempting to compress file resampled.mcpl with gzip\n",
      "MCPL: Succesfully compressed file into resampled.mcpl.gz\n",
      "Successfully sampled 1000000 particles.\n"
     ]
    }
   ],
   "source": [
    "xmlfile = \"source.xml\"\n",
    "s.save(xmlfile) # Save KDSource to XML file\n",
    "\n",
    "N_resampled = 1E6 # Number of particles to generate with virtual KDE source\n",
    "if os.name == 'posix':\n",
    "    !kdtool resample \"$xmlfile\" -o \"resampled\" -n $N_resampled\n",
    "if os.name == 'nt': # kdtool still not implemented in Windows\n",
    "    !kdtool-resample \"$xmlfile\" -o \"resampled\" -n $N_resampled\n",
    "resampled = \"resampled.mcpl.gz\""
   ]
  },
  {
   "cell_type": "markdown",
   "metadata": {
    "id": "pl3arYaG3LKo"
   },
   "source": [
    "A new MCPL file has been created, named \"resampled.mcpl.gz\", with particles generated from the KDE-based distribution."
   ]
  },
  {
   "cell_type": "markdown",
   "metadata": {
    "id": "4KUsrooZhq3E"
   },
   "source": [
    "## Create plots"
   ]
  },
  {
   "cell_type": "markdown",
   "metadata": {
    "id": "TszJfXsWVRfx"
   },
   "source": [
    "The following plots compare the analytic distributions with the KDSource kernel density estimations, and the histograms of the resampled data, to verify that they match.\n",
    "\n",
    "Comparison is performed both visually and quantitatively, based on the Kullback-Leibler divergence."
   ]
  },
  {
   "cell_type": "code",
   "execution_count": 10,
   "metadata": {
    "executionInfo": {
     "elapsed": 19,
     "status": "ok",
     "timestamp": 1634598551900,
     "user": {
      "displayName": "Inti Abbate",
      "photoUrl": "https://lh3.googleusercontent.com/a/default-user=s64",
      "userId": "15235311645725350304"
     },
     "user_tz": 180
    },
    "id": "1pub4Pz7v-Ow"
   },
   "outputs": [],
   "source": [
    "import matplotlib.pyplot as plt"
   ]
  },
  {
   "cell_type": "code",
   "execution_count": 11,
   "metadata": {
    "executionInfo": {
     "elapsed": 2,
     "status": "ok",
     "timestamp": 1634598552942,
     "user": {
      "displayName": "Inti Abbate",
      "photoUrl": "https://lh3.googleusercontent.com/a/default-user=s64",
      "userId": "15235311645725350304"
     },
     "user_tz": 180
    },
    "id": "5883KpgbWIzw"
   },
   "outputs": [],
   "source": [
    "# KL divergence\n",
    "# Notice that p and q should be evaluated in a regular (linear) grid\n",
    "def kl_divergence(p, q):\n",
    "  return np.sum(np.where(p != 0, p * np.log(p / q), 0))\n",
    "\n",
    "# Histogram of MCPL particle list\n",
    "def mcpl_hist(mcplfile, var, bins, part0=None, part1=None, **kwargs):\n",
    "  pl = mcpl.MCPLFile(mcplfile)\n",
    "  hist = np.zeros(len(bins)-1)\n",
    "  I = 0\n",
    "  for pb in pl.particle_blocks:\n",
    "    parts = np.stack((pb.ekin,pb.x,pb.y,pb.z,pb.ux,pb.uy,pb.uz), axis=1)\n",
    "    mask1 = np.ones(len(parts), dtype=bool)\n",
    "    if part0 is not None:\n",
    "      mask1 = np.logical_and.reduce(part0 <= parts, axis=1)\n",
    "    mask2 = np.ones(len(parts), dtype=bool)\n",
    "    if part1 is not None:\n",
    "      mask2 = np.logical_and.reduce(parts <= part1, axis=1)\n",
    "    mask = np.logical_and(mask1, mask2)\n",
    "    data = parts[mask][:,var]\n",
    "    hist += np.histogram(data, bins=bins, weights=pb.weight[mask], **kwargs)[0]\n",
    "    I += np.sum(pb.weight)\n",
    "  hist /= I\n",
    "  hist /= (bins[1:]-bins[:-1])\n",
    "  return hist\n",
    "\n",
    "# Simple power law\n",
    "def powerlaw(x, C, a):\n",
    "    return C * x**a"
   ]
  },
  {
   "cell_type": "markdown",
   "metadata": {
    "id": "k3T-cezeuPVT"
   },
   "source": [
    "### Energy plots"
   ]
  },
  {
   "cell_type": "code",
   "execution_count": 12,
   "metadata": {
    "executionInfo": {
     "elapsed": 408,
     "status": "ok",
     "timestamp": 1634598760433,
     "user": {
      "displayName": "Inti Abbate",
      "photoUrl": "https://lh3.googleusercontent.com/a/default-user=s64",
      "userId": "15235311645725350304"
     },
     "user_tz": 180
    },
    "id": "IK6zeSBhWQA6"
   },
   "outputs": [],
   "source": [
    "EE = np.logspace(-4,0,50)\n",
    "\n",
    "# Analytic distributions\n",
    "uu = s.geom.ms[0].transform(EE)\n",
    "pdf_1 = 0.5 * 1/EE*np.exp(-(uu-mu_u_1)**2/(2*sigma_u**2))/(sigma_u*np.sqrt(2*np.pi))\n",
    "pdf_2 = 0.5 * 1/EE*np.exp(-(uu-mu_u_2)**2/(2*sigma_u**2))/(sigma_u*np.sqrt(2*np.pi))\n",
    "f = 0.1587 # Integral of normal distribution for x-mu>std"
   ]
  },
  {
   "cell_type": "code",
   "execution_count": 13,
   "metadata": {
    "colab": {
     "base_uri": "https://localhost:8080/",
     "height": 297
    },
    "executionInfo": {
     "elapsed": 4923,
     "status": "ok",
     "timestamp": 1634598766352,
     "user": {
      "displayName": "Inti Abbate",
      "photoUrl": "https://lh3.googleusercontent.com/a/default-user=s64",
      "userId": "15235311645725350304"
     },
     "user_tz": 180
    },
    "id": "svzMHhQ7hq3E",
    "outputId": "7a1963a6-fbaf-4a07-aa72-6b8b6dcadb03"
   },
   "outputs": [
    {
     "data": {
      "image/png": "[encoded data removed]",
      "text/plain": [
       "<Figure size 432x288 with 1 Axes>"
      ]
     },
     "metadata": {
      "needs_background": "light"
     },
     "output_type": "display_data"
    }
   ],
   "source": [
    "# Plot energy distribution\n",
    "\n",
    "fig,scores = s.plot_E(EE, label=\"KDE\")\n",
    "\n",
    "hist = mcpl_hist(resampled, 0, EE)\n",
    "widths = (EE[1:]-EE[:-1])\n",
    "plt.bar(EE[:-1], hist, width=widths, align=\"edge\", linewidth=.5, ec=\"k\",\n",
    "        fc=\"g\", alpha=.7, label=\"Resampled\")\n",
    "\n",
    "plt.plot(EE, pdf_1+pdf_2, 'xr', zorder=1, label=\"Analytic\")\n",
    "\n",
    "plt.legend()\n",
    "plt.tight_layout()\n",
    "plt.savefig('E-true-KDE-hist.pdf')\n",
    "plt.show()"
   ]
  },
  {
   "cell_type": "markdown",
   "metadata": {
    "id": "v3IECh_2WQA8"
   },
   "source": [
    "It can be seen that the KDE successfully estimates the original distribution."
   ]
  },
  {
   "cell_type": "code",
   "execution_count": 14,
   "metadata": {
    "colab": {
     "base_uri": "https://localhost:8080/",
     "height": 479
    },
    "executionInfo": {
     "elapsed": 8767,
     "status": "ok",
     "timestamp": 1634598780137,
     "user": {
      "displayName": "Inti Abbate",
      "photoUrl": "https://lh3.googleusercontent.com/a/default-user=s64",
      "userId": "15235311645725350304"
     },
     "user_tz": 180
    },
    "id": "gfNYZI4Yhq3F",
    "outputId": "724f3ca6-d3f7-425e-e917-ac43a0844292"
   },
   "outputs": [
    {
     "name": "stdout",
     "output_type": "stream",
     "text": [
      "Using 100 particles for fit.\n",
      "Using 316 particles for fit.\n",
      "Using 1000 particles for fit.\n",
      "Using 3162 particles for fit.\n",
      "Using 10000 particles for fit.\n",
      "Using 31622 particles for fit.\n",
      "Using 100000 particles for fit.\n",
      "0.06454059417501684\n",
      "0.04590236641331403\n"
     ]
    },
    {
     "data": {
      "image/png": "[encoded data removed]",
      "text/plain": [
       "<Figure size 432x288 with 1 Axes>"
      ]
     },
     "metadata": {
      "needs_background": "light"
     },
     "output_type": "display_data"
    }
   ],
   "source": [
    "# Plot reduction of KL divergence with growing N\n",
    "\n",
    "# KL divergence is computed between lethargy distributions\n",
    "# because energy grid is logarithmic (linear in lethargy)\n",
    "\n",
    "s.bw_method = None\n",
    "KLDs = []\n",
    "n_vals = np.logspace(2,5,7).astype(\"int\")\n",
    "dim = s.geom.dim\n",
    "bw = s.kde.bw\n",
    "for n in n_vals:\n",
    "  s.fit(N=n, scaling=scaling)\n",
    "  s.kde.bw = bw * kds.kde.bw_silv(dim,n)/kds.kde.bw_silv(dim,N)\n",
    "  fig,[score,err] = s.plot_E(EE, label=f\"N = {n}\")\n",
    "  f_u = (pdf_1+pdf_2) * EE # Analytic lethargy distribution\n",
    "  KDE_u = score * EE       # KDE lethargy distribution\n",
    "  KLDs.append(kl_divergence(f_u, KDE_u))\n",
    "plt.clf()\n",
    "\n",
    "print((KLDs[-1]-KLDs[-3]) / (KLDs[-3]-KLDs[-5]))\n",
    "print((KLDs[-1]-KLDs[-3]) / (KLDs[2]-KLDs[0]))\n",
    "\n",
    "plt.plot(n_vals, KLDs, 'o-')\n",
    "plt.xlabel('Number of particles')\n",
    "plt.ylabel('$D_{KL}(\\,\\hat{f}\\,||\\,f\\,)$')\n",
    "plt.title('Kullback-Leibler Divergence')\n",
    "plt.xscale('log')\n",
    "plt.yscale('log')\n",
    "plt.grid()\n",
    "plt.savefig('convergence-KLD.pdf', bbox_inches='tight')\n",
    "plt.show()"
   ]
  },
  {
   "cell_type": "markdown",
   "metadata": {
    "id": "YWLFrx5yWQA9"
   },
   "source": [
    "It can be seen how the KL divergence between the true and estimated distribution decreases with the number of particles."
   ]
  },
  {
   "cell_type": "code",
   "execution_count": 15,
   "metadata": {
    "colab": {
     "base_uri": "https://localhost:8080/",
     "height": 297
    },
    "executionInfo": {
     "elapsed": 5214,
     "status": "ok",
     "timestamp": 1634598790093,
     "user": {
      "displayName": "Inti Abbate",
      "photoUrl": "https://lh3.googleusercontent.com/a/default-user=s64",
      "userId": "15235311645725350304"
     },
     "user_tz": 180
    },
    "id": "vqNBxmoHWQA9",
    "outputId": "cc31ae2b-4483-4e7b-ba16-244fe0fe10a2"
   },
   "outputs": [
    {
     "data": {
      "image/png": "[encoded data removed]",
      "text/plain": [
       "<Figure size 432x288 with 1 Axes>"
      ]
     },
     "metadata": {
      "needs_background": "light"
     },
     "output_type": "display_data"
    }
   ],
   "source": [
    "# Plot correlation with x\n",
    "\n",
    "# Vectors to separate x<0 and x>0\n",
    "# Vec: [u, x,y, dx,dy,dz]\n",
    "vec0 = [-np.inf,0,-np.inf,-1,-1,-1]\n",
    "vec1 = [np.inf,0,np.inf,1,1,1]\n",
    "# Part: [E, x,y,z, dx,dy,dz]\n",
    "part0 = [0,0,-np.inf,-np.inf,-1,-1,-1]\n",
    "part1 = [np.inf,0,np.inf,np.inf,1,1,1]\n",
    "\n",
    "# Plot only particles with x > 0\n",
    "fig,scores = s.plot_E(EE, vec0=vec0, label=\"x>0, KDE\")\n",
    "plt.gca().lines[0].set_linewidth(1.5)\n",
    "plt.plot(EE, (1-f)*pdf_1+f*pdf_2, 'x', linewidth=1.5, label=\"x>0, Analytic\")\n",
    "\n",
    "# Plot only particles with x < 0\n",
    "fig,scores = s.plot_E(EE, vec1=vec1, label=\"x<0, KDE\")\n",
    "plt.gca().lines[0].set_linewidth(1.5)\n",
    "plt.plot(EE, f*pdf_1+(1-f)*pdf_2, 'x', linewidth=1.5, label=\"x<0, Analytic\")\n",
    "\n",
    "plt.grid()\n",
    "plt.legend()\n",
    "plt.tight_layout()\n",
    "plt.savefig(\"E-correl.pdf\")\n",
    "plt.show()"
   ]
  },
  {
   "cell_type": "markdown",
   "metadata": {
    "id": "IqoPXdAoWQA9"
   },
   "source": [
    "Since energy and x are correlationated, restricting the x values affects the energy distribution.\n",
    "\n",
    "Since the two energy-x clusters overlap in x, particles with x>0 are composed by a big fraction of the cluster with &mu;<sub>x</sub>>0, but also a small fraction of the other cluster. The energy peaks are thus modified with the respective factors, as can be seen in the plot. The analogous effect happens for particles with x<0."
   ]
  },
  {
   "cell_type": "code",
   "execution_count": 16,
   "metadata": {
    "colab": {
     "base_uri": "https://localhost:8080/",
     "height": 297
    },
    "executionInfo": {
     "elapsed": 33006,
     "status": "ok",
     "timestamp": 1634598642937,
     "user": {
      "displayName": "Inti Abbate",
      "photoUrl": "https://lh3.googleusercontent.com/a/default-user=s64",
      "userId": "15235311645725350304"
     },
     "user_tz": 180
    },
    "id": "zXqonIL8WQA-",
    "outputId": "69a038d8-01ac-46b2-ad10-3f684af2e635"
   },
   "outputs": [
    {
     "data": {
      "image/png": "[encoded data removed]",
      "text/plain": [
       "<Figure size 432x288 with 2 Axes>"
      ]
     },
     "metadata": {
      "needs_background": "light"
     },
     "output_type": "display_data"
    }
   ],
   "source": [
    "# Lethargy-x 2D plot\n",
    "\n",
    "xx = np.linspace(-30,30,20)\n",
    "\n",
    "fig,scores = s.plot2D_integr([\"u\",\"x\"], [uu,xx], scale=\"log\")\n",
    "\n",
    "plt.clim(vmin=1e-5)\n",
    "plt.tight_layout()\n",
    "plt.savefig(\"u-x.pdf\")\n",
    "plt.show()"
   ]
  },
  {
   "cell_type": "markdown",
   "metadata": {
    "id": "5E5b5IIzyayw"
   },
   "source": [
    "### Position plots"
   ]
  },
  {
   "cell_type": "code",
   "execution_count": 17,
   "metadata": {
    "colab": {
     "base_uri": "https://localhost:8080/",
     "height": 297
    },
    "executionInfo": {
     "elapsed": 2644,
     "status": "ok",
     "timestamp": 1634598645568,
     "user": {
      "displayName": "Inti Abbate",
      "photoUrl": "https://lh3.googleusercontent.com/a/default-user=s64",
      "userId": "15235311645725350304"
     },
     "user_tz": 180
    },
    "id": "yAN5SuDWhq3H",
    "outputId": "c8878514-740e-4d83-cfab-1de70ef3f323"
   },
   "outputs": [
    {
     "data": {
      "image/png": "[encoded data removed]",
      "text/plain": [
       "<Figure size 432x288 with 1 Axes>"
      ]
     },
     "metadata": {
      "needs_background": "light"
     },
     "output_type": "display_data"
    }
   ],
   "source": [
    "# Plot x distribution\n",
    "\n",
    "xx = np.linspace(-30,30,30)\n",
    "pdf_1 = 0.5 * np.exp(-((xx-mu_x_1)/sigma_x)**2/2)/(sigma_x*np.sqrt(2*np.pi))\n",
    "pdf_2 = 0.5 * np.exp(-((xx-mu_x_2)/sigma_x)**2/2)/(sigma_x*np.sqrt(2*np.pi))\n",
    "\n",
    "fig,scores = s.plot_integr(\"x\", xx)\n",
    "\n",
    "hist = mcpl_hist(resampled, 1, xx)\n",
    "widths = (xx[1:]-xx[:-1])\n",
    "plt.bar(xx[:-1], hist, width=widths, align=\"edge\", linewidth=.5, ec=\"k\",\n",
    "        fc=\"g\", alpha=.7, label=\"Resampled\")\n",
    "\n",
    "plt.plot(xx, pdf_1+pdf_2, 'xr', zorder=3, label=\"Analytic\")\n",
    "\n",
    "plt.legend()\n",
    "plt.tight_layout()\n",
    "plt.savefig(\"x.pdf\")\n",
    "plt.show()"
   ]
  },
  {
   "cell_type": "code",
   "execution_count": 18,
   "metadata": {
    "colab": {
     "base_uri": "https://localhost:8080/",
     "height": 297
    },
    "executionInfo": {
     "elapsed": 25333,
     "status": "ok",
     "timestamp": 1634598670888,
     "user": {
      "displayName": "Inti Abbate",
      "photoUrl": "https://lh3.googleusercontent.com/a/default-user=s64",
      "userId": "15235311645725350304"
     },
     "user_tz": 180
    },
    "id": "DZLe9wzShq3H",
    "outputId": "4da3b4b4-104f-4c82-977d-7df086ae9f0b"
   },
   "outputs": [
    {
     "data": {
      "image/png": "[encoded data removed]",
      "text/plain": [
       "<Figure size 432x288 with 2 Axes>"
      ]
     },
     "metadata": {
      "needs_background": "light"
     },
     "output_type": "display_data"
    }
   ],
   "source": [
    "# Plot xy distribution\n",
    "\n",
    "xx = np.linspace(-30,30,30)\n",
    "yy = np.linspace(-30,30,30)\n",
    "fig,scores = s.plot2D_integr([\"x\",\"y\"], [xx,yy])\n",
    "plt.tight_layout()\n",
    "plt.show()"
   ]
  },
  {
   "cell_type": "markdown",
   "metadata": {
    "id": "Mv6Lbd0f1PP9"
   },
   "source": [
    "### Direction plots"
   ]
  },
  {
   "cell_type": "code",
   "execution_count": 19,
   "metadata": {
    "colab": {
     "base_uri": "https://localhost:8080/",
     "height": 297
    },
    "executionInfo": {
     "elapsed": 5330,
     "status": "ok",
     "timestamp": 1634598676208,
     "user": {
      "displayName": "Inti Abbate",
      "photoUrl": "https://lh3.googleusercontent.com/a/default-user=s64",
      "userId": "15235311645725350304"
     },
     "user_tz": 180
    },
    "id": "0D-Jq-vZhq3I",
    "outputId": "ee57d17f-1d54-4f49-b456-82c8872f9892"
   },
   "outputs": [
    {
     "data": {
      "image/png": "[encoded data removed]",
      "text/plain": [
       "<Figure size 432x288 with 1 Axes>"
      ]
     },
     "metadata": {
      "needs_background": "light"
     },
     "output_type": "display_data"
    }
   ],
   "source": [
    "# Plot dz distribution\n",
    "\n",
    "ddz = np.linspace(0,1,30)\n",
    "pdf = 2 * ddz\n",
    "\n",
    "fig,[scores,errs] = s.plot_integr(\"dz\", ddz, yscale=\"linear\")\n",
    "\n",
    "hist = mcpl_hist(resampled, 6, ddz)\n",
    "hist = np.concatenate((hist, hist[-1:]))\n",
    "plt.plot(ddz, hist, ds='steps-post', label=\"Resampled\")\n",
    "\n",
    "plt.plot(ddz, pdf, 'x', zorder=3, label=\"Analytic\")\n",
    "\n",
    "fig,[scores,errs] = s.plot_integr(\"dz\", ddz, vec0=vec0, yscale=\"linear\", label=\"x>0, KDE\")\n",
    "\n",
    "hist = mcpl_hist(resampled, 6, ddz, part0=part0)\n",
    "hist = np.concatenate((hist, hist[-1:]))\n",
    "plt.plot(ddz, hist, ds='steps-post', label=\"x>0, Resampled\")\n",
    "\n",
    "plt.plot(ddz, 0.5*pdf, 'x', zorder=3, label=\"x>0, Analytic\")\n",
    "\n",
    "plt.ylim(bottom=0)\n",
    "plt.grid()\n",
    "plt.legend()\n",
    "plt.tight_layout()\n",
    "plt.savefig(\"mu-x.pdf\")\n",
    "plt.show()"
   ]
  },
  {
   "cell_type": "markdown",
   "metadata": {
    "id": "z8GiY0_cWQBA"
   },
   "source": [
    "Since mu is not correlated with x, its distribution for x>0 is the same (linear), but with half the intensity.\n",
    "\n",
    "Besides, although the Python KDE fails to match the analytic distribution near dz=1, due to border effects, the resampled data do match it. This is because the sampling algorithms take into account the nature of the direction vector."
   ]
  },
  {
   "cell_type": "code",
   "execution_count": 20,
   "metadata": {
    "colab": {
     "base_uri": "https://localhost:8080/",
     "height": 297
    },
    "executionInfo": {
     "elapsed": 33892,
     "status": "ok",
     "timestamp": 1634598710093,
     "user": {
      "displayName": "Inti Abbate",
      "photoUrl": "https://lh3.googleusercontent.com/a/default-user=s64",
      "userId": "15235311645725350304"
     },
     "user_tz": 180
    },
    "id": "ix307EUlhq3K",
    "outputId": "d63054f4-5fc7-4dcd-9d73-2b7241d6d381"
   },
   "outputs": [
    {
     "data": {
      "image/png": "[encoded data removed]",
      "text/plain": [
       "<Figure size 432x288 with 2 Axes>"
      ]
     },
     "metadata": {
      "needs_background": "light"
     },
     "output_type": "display_data"
    }
   ],
   "source": [
    "# Plot dx-dy distribution\n",
    "\n",
    "ddx = np.linspace(-1,1,30)\n",
    "ddy = np.linspace(-1,1,30)\n",
    "\n",
    "fig,scores = s.plot2D_integr([\"dx\",\"dy\"], [ddx,ddy], scale=\"linear\")\n",
    "\n",
    "plt.gca().set_aspect(1)\n",
    "plt.tight_layout()\n",
    "plt.savefig(\"x-y.pdf\")\n",
    "plt.show()"
   ]
  },
  {
   "cell_type": "markdown",
   "metadata": {
    "id": "LEArGdnhoA-7"
   },
   "source": [
    "For a cosine distribution, the density projected in the dx-dy plane is uniform."
   ]
  },
  {
   "cell_type": "code",
   "execution_count": null,
   "metadata": {
    "id": "kC9TnlxRpB-T"
   },
   "outputs": [],
   "source": []
  }
 ],
 "metadata": {
  "colab": {
   "collapsed_sections": [],
   "name": "Verification.ipynb",
   "provenance": [],
   "toc_visible": true
  },
  "kernelspec": {
   "display_name": "kdsource-epan",
   "language": "python",
   "name": "python3"
  },
  "language_info": {
   "codemirror_mode": {
    "name": "ipython",
    "version": 3
   },
   "file_extension": ".py",
   "mimetype": "text/x-python",
   "name": "python",
   "nbconvert_exporter": "python",
   "pygments_lexer": "ipython3",
   "version": "3.10.2"
  },
  "vscode": {
   "interpreter": {
    "hash": "8212c882e0d1375ff17ffa280560f925f3177ec6d6617261d1cff80b1f98dcf8"
   }
  }
 },
 "nbformat": 4,
 "nbformat_minor": 1
}
